{
 "cells": [
  {
   "cell_type": "code",
   "execution_count": 22,
   "metadata": {},
   "outputs": [],
   "source": [
    "import numpy"
   ]
  },
  {
   "cell_type": "code",
   "execution_count": 23,
   "metadata": {},
   "outputs": [],
   "source": [
    "def flag(x,y):\n",
    "  if(x==y):\n",
    "    return 0\n",
    "  return 2"
   ]
  },
  {
   "cell_type": "code",
   "execution_count": 24,
   "metadata": {},
   "outputs": [],
   "source": [
    "def med(x,y):\n",
    "  n=len(x)\n",
    "  m=len(y)\n",
    "  D=[]\n",
    "  for i in range(n+1):\n",
    "    D.append([])\n",
    "    for j in range(m+1):\n",
    "       if(j==0 and i==0):\n",
    "         D[i].append(0)\n",
    "       elif(j==0):\n",
    "         D[i].append(D[i-1][0]+1)\n",
    "       elif(i==0):\n",
    "         D[i].append(D[0][j-1]+1)\n",
    "       else:\n",
    "         D[i].append(min(D[i-1][j]+1,D[i-1][j-1]+flag(x[i-1],y[j-1]),D[i][j-1]+1))\n",
    "         \n",
    "  return D"
   ]
  },
  {
   "cell_type": "code",
   "execution_count": 25,
   "metadata": {},
   "outputs": [],
   "source": [
    "def optimal_sol(D,n,m,s1,s2):\n",
    "  final_sol1=[]\n",
    "  final_sol2=[]\n",
    "  if(n>0 and m>0 and D[n][m]==D[n-1][m-1]+flag(s1[n-1],s2[m-1])):\n",
    "      sol1,sol2=optimal_sol(D,n-1,m-1,s1,s2)\n",
    "      for x in range(len(sol1)):\n",
    "         final_sol1.append(sol1[x]+str(s1[n-1]))\n",
    "         final_sol2.append(sol2[x]+str(s2[m-1]))\n",
    "  if(n>0 and D[n][m]==D[n-1][m]+1):\n",
    "      sol1,sol2=optimal_sol(D,n-1,m,s1,s2)\n",
    "      for x in range(len(sol1)):\n",
    "         final_sol1.append(sol1[x]+str(s1[n-1]))\n",
    "         final_sol2.append(sol2[x]+\"-\")\n",
    "  if(n>0 and D[n][m]==D[n][m-1]+1):\n",
    "      sol1,sol2=optimal_sol(D,n,m-1,s1,s2)\n",
    "      for x in range(len(sol1)):\n",
    "         final_sol1.append(sol1[x]+\"-\")\n",
    "         final_sol2.append(sol2[x]+str(s2[m-1]))\n",
    "  if(n==0 and m==0):\n",
    "     final_sol1=[\"\"]\n",
    "     final_sol2=[\"\"]\n",
    "  return final_sol1,final_sol2"
   ]
  },
  {
   "cell_type": "code",
   "execution_count": 26,
   "metadata": {},
   "outputs": [
    {
     "name": "stdout",
     "output_type": "stream",
     "text": [
      "First String:stall\n",
      "Second String:apple\n"
     ]
    }
   ],
   "source": [
    "A=input(\"First String:\")\n",
    "B=input(\"Second String:\")\n",
    "F=med(A,B)\n",
    "AlignmentA=\"\"\n",
    "AlignmentB=\"\""
   ]
  },
  {
   "cell_type": "code",
   "execution_count": 27,
   "metadata": {},
   "outputs": [
    {
     "name": "stdout",
     "output_type": "stream",
     "text": [
      "sta--ll\n",
      "--apple\n",
      "\n",
      "\n",
      "sta--l-l\n",
      "--apple-\n",
      "\n",
      "\n",
      "sta-ll-\n",
      "--apple\n",
      "\n",
      "\n",
      "sta--ll-\n",
      "--app-le\n",
      "\n",
      "\n",
      "stal-l-\n",
      "--apple\n",
      "\n",
      "\n",
      "sta-l-l-\n",
      "--ap-ple\n",
      "\n",
      "\n",
      "stal--l-\n",
      "--a-pple\n",
      "\n",
      "\n",
      "sta--ll-\n",
      "--appl-e\n",
      "\n",
      "\n"
     ]
    }
   ],
   "source": [
    "i=len(A)\n",
    "j=len(B)\n",
    "sol1,sol2=optimal_sol(F,i,j,A,B)\n",
    "for k in range(len(sol1)):\n",
    "  print(sol1[k])\n",
    "  print(sol2[k])\n",
    "  print(\"\\n\")\n"
   ]
  },
  {
   "cell_type": "code",
   "execution_count": 28,
   "metadata": {},
   "outputs": [
    {
     "name": "stdout",
     "output_type": "stream",
     "text": [
      "6\n"
     ]
    }
   ],
   "source": [
    "print(F[len(A)][len(B)])"
   ]
  },
  {
   "cell_type": "code",
   "execution_count": 29,
   "metadata": {},
   "outputs": [
    {
     "data": {
      "text/plain": [
       "[[0, 1, 2, 3, 4, 5],\n",
       " [1, 2, 3, 4, 5, 6],\n",
       " [2, 3, 4, 5, 6, 7],\n",
       " [3, 2, 3, 4, 5, 6],\n",
       " [4, 3, 4, 5, 4, 5],\n",
       " [5, 4, 5, 6, 5, 6]]"
      ]
     },
     "execution_count": 29,
     "metadata": {},
     "output_type": "execute_result"
    }
   ],
   "source": [
    "F"
   ]
  },
  {
   "cell_type": "code",
   "execution_count": 30,
   "metadata": {},
   "outputs": [
    {
     "data": {
      "text/plain": [
       "(['sta--ll',\n",
       "  'sta--l-l',\n",
       "  'sta-ll-',\n",
       "  'sta--ll-',\n",
       "  'stal-l-',\n",
       "  'sta-l-l-',\n",
       "  'stal--l-',\n",
       "  'sta--ll-'],\n",
       " ['--apple',\n",
       "  '--apple-',\n",
       "  '--apple',\n",
       "  '--app-le',\n",
       "  '--apple',\n",
       "  '--ap-ple',\n",
       "  '--a-pple',\n",
       "  '--appl-e'])"
      ]
     },
     "execution_count": 30,
     "metadata": {},
     "output_type": "execute_result"
    }
   ],
   "source": [
    "optimal_sol(F,i,j,A,B)"
   ]
  }
 ],
 "metadata": {
  "kernelspec": {
   "display_name": "Python 3",
   "language": "python",
   "name": "python3"
  },
  "language_info": {
   "codemirror_mode": {
    "name": "ipython",
    "version": 3
   },
   "file_extension": ".py",
   "mimetype": "text/x-python",
   "name": "python",
   "nbconvert_exporter": "python",
   "pygments_lexer": "ipython3",
   "version": "3.6.9"
  }
 },
 "nbformat": 4,
 "nbformat_minor": 2
}
